{
 "cells": [
  {
   "cell_type": "code",
   "execution_count": 3,
   "metadata": {},
   "outputs": [],
   "source": [
    "import pandas as pd\n",
    "from glob import glob\n",
    "import os"
   ]
  },
  {
   "cell_type": "code",
   "execution_count": 3,
   "metadata": {},
   "outputs": [],
   "source": [
    "files = glob('../data/raw/CPCP_AQI_tables/*.csv')[:3]"
   ]
  },
  {
   "cell_type": "code",
   "execution_count": 4,
   "metadata": {},
   "outputs": [
    {
     "data": {
      "text/plain": [
       "'../data/raw/CPCP_AQI_tables/AQI_Bulletin_20220226.csv'"
      ]
     },
     "execution_count": 4,
     "metadata": {},
     "output_type": "execute_result"
    }
   ],
   "source": [
    "files[0]"
   ]
  },
  {
   "cell_type": "code",
   "execution_count": 5,
   "metadata": {},
   "outputs": [],
   "source": [
    "dfs = []\n",
    "for file in files:\n",
    "    current_df = pd.read_csv(file, index_col=0)\n",
    "    filename = os.path.basename(file)\n",
    "    date = filename.removeprefix(\"AQI_Bulletin_\").removesuffix(\".csv\")\n",
    "    current_df['date'] = date\n",
    "    current_df['date'] = current_df['date'].apply(pd.to_datetime)\n",
    "    dfs.append(current_df)"
   ]
  },
  {
   "cell_type": "code",
   "execution_count": 75,
   "metadata": {},
   "outputs": [],
   "source": [
    "\n",
    "def prominant_pollutant_cleanup(pollutants):\n",
    "    cleaned_names = []\n",
    "    if pollutants == 'CO':\n",
    "        cleaned_names.append(pollutants) # Only CO\n",
    "    else:\n",
    "        names, values = pollutants.replace('\\n,', ',').split('\\n', maxsplit=1)\n",
    "        pollutant_names = names.split(', ')\n",
    "        values = values.split('\\n')\n",
    "        i = 0\n",
    "        for pollutan_name in pollutant_names:\n",
    "            if pollutan_name != 'CO':\n",
    "                cleaned_names.append(pollutan_name + values[i])\n",
    "                i += 1\n",
    "            else:\n",
    "                cleaned_names.append(pollutan_name)\n",
    "    \n",
    "    return cleaned_names"
   ]
  },
  {
   "cell_type": "code",
   "execution_count": 81,
   "metadata": {},
   "outputs": [],
   "source": [
    "main_df = pd.concat(dfs)\n",
    "main_df['Prominent Pollutant'] = main_df['Prominent Pollutant'].apply(prominant_pollutant_cleanup)"
   ]
  },
  {
   "cell_type": "code",
   "execution_count": 82,
   "metadata": {},
   "outputs": [
    {
     "data": {
      "text/html": [
       "<div>\n",
       "<style scoped>\n",
       "    .dataframe tbody tr th:only-of-type {\n",
       "        vertical-align: middle;\n",
       "    }\n",
       "\n",
       "    .dataframe tbody tr th {\n",
       "        vertical-align: top;\n",
       "    }\n",
       "\n",
       "    .dataframe thead th {\n",
       "        text-align: right;\n",
       "    }\n",
       "</style>\n",
       "<table border=\"1\" class=\"dataframe\">\n",
       "  <thead>\n",
       "    <tr style=\"text-align: right;\">\n",
       "      <th></th>\n",
       "      <th>S.No</th>\n",
       "      <th>City</th>\n",
       "      <th>Air Quality</th>\n",
       "      <th>Index Value</th>\n",
       "      <th>Prominent Pollutant</th>\n",
       "      <th>Based on Number of Monitoring Stations</th>\n",
       "      <th>date</th>\n",
       "    </tr>\n",
       "  </thead>\n",
       "  <tbody>\n",
       "    <tr>\n",
       "      <th>1</th>\n",
       "      <td>1</td>\n",
       "      <td>Agartala</td>\n",
       "      <td>Moderate</td>\n",
       "      <td>180</td>\n",
       "      <td>[PM2.5]</td>\n",
       "      <td>1</td>\n",
       "      <td>2022-02-26</td>\n",
       "    </tr>\n",
       "    <tr>\n",
       "      <th>2</th>\n",
       "      <td>2</td>\n",
       "      <td>Agra</td>\n",
       "      <td>Satisfactory</td>\n",
       "      <td>89</td>\n",
       "      <td>[PM10]</td>\n",
       "      <td>5</td>\n",
       "      <td>2022-02-26</td>\n",
       "    </tr>\n",
       "    <tr>\n",
       "      <th>3</th>\n",
       "      <td>3</td>\n",
       "      <td>Ahmedabad</td>\n",
       "      <td>Poor</td>\n",
       "      <td>235</td>\n",
       "      <td>[PM2.5]</td>\n",
       "      <td>9</td>\n",
       "      <td>2022-02-26</td>\n",
       "    </tr>\n",
       "    <tr>\n",
       "      <th>4</th>\n",
       "      <td>4</td>\n",
       "      <td>Aizawl</td>\n",
       "      <td>Good</td>\n",
       "      <td>15</td>\n",
       "      <td>[CO]</td>\n",
       "      <td>1</td>\n",
       "      <td>2022-02-26</td>\n",
       "    </tr>\n",
       "    <tr>\n",
       "      <th>5</th>\n",
       "      <td>5</td>\n",
       "      <td>Ajmer</td>\n",
       "      <td>Moderate</td>\n",
       "      <td>122</td>\n",
       "      <td>[PM10]</td>\n",
       "      <td>1</td>\n",
       "      <td>2022-02-26</td>\n",
       "    </tr>\n",
       "    <tr>\n",
       "      <th>...</th>\n",
       "      <td>...</td>\n",
       "      <td>...</td>\n",
       "      <td>...</td>\n",
       "      <td>...</td>\n",
       "      <td>...</td>\n",
       "      <td>...</td>\n",
       "      <td>...</td>\n",
       "    </tr>\n",
       "    <tr>\n",
       "      <th>15</th>\n",
       "      <td>235</td>\n",
       "      <td>Vijayawada</td>\n",
       "      <td>Satisfactory</td>\n",
       "      <td>57</td>\n",
       "      <td>[O3, PM10]</td>\n",
       "      <td>2/3</td>\n",
       "      <td>2023-12-28</td>\n",
       "    </tr>\n",
       "    <tr>\n",
       "      <th>16</th>\n",
       "      <td>236</td>\n",
       "      <td>Visakhapatnam</td>\n",
       "      <td>Moderate</td>\n",
       "      <td>177</td>\n",
       "      <td>[PM2.5]</td>\n",
       "      <td>1/1</td>\n",
       "      <td>2023-12-28</td>\n",
       "    </tr>\n",
       "    <tr>\n",
       "      <th>17</th>\n",
       "      <td>237</td>\n",
       "      <td>Vrindavan</td>\n",
       "      <td>Satisfactory</td>\n",
       "      <td>82</td>\n",
       "      <td>[CO]</td>\n",
       "      <td>1/1</td>\n",
       "      <td>2023-12-28</td>\n",
       "    </tr>\n",
       "    <tr>\n",
       "      <th>18</th>\n",
       "      <td>238</td>\n",
       "      <td>Yadgir</td>\n",
       "      <td>Moderate</td>\n",
       "      <td>102</td>\n",
       "      <td>[PM2.5]</td>\n",
       "      <td>1/1</td>\n",
       "      <td>2023-12-28</td>\n",
       "    </tr>\n",
       "    <tr>\n",
       "      <th>19</th>\n",
       "      <td>239</td>\n",
       "      <td>Yamuna Nagar</td>\n",
       "      <td>Moderate</td>\n",
       "      <td>133</td>\n",
       "      <td>[PM10]</td>\n",
       "      <td>1/1</td>\n",
       "      <td>2023-12-28</td>\n",
       "    </tr>\n",
       "  </tbody>\n",
       "</table>\n",
       "<p>525 rows × 7 columns</p>\n",
       "</div>"
      ],
      "text/plain": [
       "    S.No           City   Air Quality  Index Value Prominent Pollutant  \\\n",
       "1      1       Agartala      Moderate          180             [PM2.5]   \n",
       "2      2           Agra  Satisfactory           89              [PM10]   \n",
       "3      3      Ahmedabad          Poor          235             [PM2.5]   \n",
       "4      4         Aizawl          Good           15                [CO]   \n",
       "5      5          Ajmer      Moderate          122              [PM10]   \n",
       "..   ...            ...           ...          ...                 ...   \n",
       "15   235     Vijayawada  Satisfactory           57          [O3, PM10]   \n",
       "16   236  Visakhapatnam      Moderate          177             [PM2.5]   \n",
       "17   237      Vrindavan  Satisfactory           82                [CO]   \n",
       "18   238         Yadgir      Moderate          102             [PM2.5]   \n",
       "19   239   Yamuna Nagar      Moderate          133              [PM10]   \n",
       "\n",
       "   Based on Number of Monitoring Stations       date  \n",
       "1                                       1 2022-02-26  \n",
       "2                                       5 2022-02-26  \n",
       "3                                       9 2022-02-26  \n",
       "4                                       1 2022-02-26  \n",
       "5                                       1 2022-02-26  \n",
       "..                                    ...        ...  \n",
       "15                                    2/3 2023-12-28  \n",
       "16                                    1/1 2023-12-28  \n",
       "17                                    1/1 2023-12-28  \n",
       "18                                    1/1 2023-12-28  \n",
       "19                                    1/1 2023-12-28  \n",
       "\n",
       "[525 rows x 7 columns]"
      ]
     },
     "execution_count": 82,
     "metadata": {},
     "output_type": "execute_result"
    }
   ],
   "source": [
    "main_df"
   ]
  },
  {
   "cell_type": "code",
   "execution_count": 12,
   "metadata": {},
   "outputs": [],
   "source": [
    "df = pd.read_csv(\"../data/processed/cpcb_aqi_data.csv\")"
   ]
  },
  {
   "cell_type": "code",
   "execution_count": 13,
   "metadata": {},
   "outputs": [],
   "source": [
    "import datetime\n",
    "\n",
    "def range_date(start_date, end_date, day_step=1):\n",
    "    c_date = start_date\n",
    "    while c_date < end_date:\n",
    "        yield c_date\n",
    "        c_date += datetime.timedelta(day_step)"
   ]
  },
  {
   "cell_type": "code",
   "execution_count": 14,
   "metadata": {},
   "outputs": [],
   "source": [
    "START_DATE = datetime.date(2020, 1, 1)\n",
    "END_DATE = datetime.date(2024, 12, 1)\n",
    "\n"
   ]
  },
  {
   "cell_type": "code",
   "execution_count": 27,
   "metadata": {},
   "outputs": [
    {
     "data": {
      "text/plain": [
       "False"
      ]
     },
     "execution_count": 27,
     "metadata": {},
     "output_type": "execute_result"
    }
   ],
   "source": [
    "START_DATE == pd.to_datetime('2020-01-01')"
   ]
  },
  {
   "cell_type": "code",
   "execution_count": null,
   "metadata": {},
   "outputs": [],
   "source": []
  }
 ],
 "metadata": {
  "kernelspec": {
   "display_name": "aqi_forecasting",
   "language": "python",
   "name": "python3"
  },
  "language_info": {
   "codemirror_mode": {
    "name": "ipython",
    "version": 3
   },
   "file_extension": ".py",
   "mimetype": "text/x-python",
   "name": "python",
   "nbconvert_exporter": "python",
   "pygments_lexer": "ipython3",
   "version": "3.12.3"
  }
 },
 "nbformat": 4,
 "nbformat_minor": 2
}
