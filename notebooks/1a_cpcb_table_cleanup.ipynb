{
 "cells": [
  {
   "cell_type": "code",
   "execution_count": 3,
   "metadata": {},
   "outputs": [],
   "source": [
    "import pandas as pd\n",
    "from glob import glob\n",
    "import os"
   ]
  },
  {
   "cell_type": "code",
   "execution_count": 3,
   "metadata": {},
   "outputs": [],
   "source": [
    "files = glob('../data/raw/CPCP_AQI_tables/*.csv')[:3]"
   ]
  },
  {
   "cell_type": "code",
   "execution_count": 4,
   "metadata": {},
   "outputs": [
    {
     "data": {
      "text/plain": [
       "'../data/raw/CPCP_AQI_tables/AQI_Bulletin_20220226.csv'"
      ]
     },
     "execution_count": 4,
     "metadata": {},
     "output_type": "execute_result"
    }
   ],
   "source": [
    "files[0]"
   ]
  },
  {
   "cell_type": "code",
   "execution_count": 5,
   "metadata": {},
   "outputs": [],
   "source": [
    "dfs = []\n",
    "for file in files:\n",
    "    current_df = pd.read_csv(file, index_col=0)\n",
    "    filename = os.path.basename(file)\n",
    "    date = filename.removeprefix(\"AQI_Bulletin_\").removesuffix(\".csv\")\n",
    "    current_df['date'] = date\n",
    "    current_df['date'] = current_df['date'].apply(pd.to_datetime)\n",
    "    dfs.append(current_df)"
   ]
  },
  {
   "cell_type": "code",
   "execution_count": 75,
   "metadata": {},
   "outputs": [],
   "source": [
    "\n",
    "def prominant_pollutant_cleanup(pollutants):\n",
    "    cleaned_names = []\n",
    "    if pollutants == 'CO':\n",
    "        cleaned_names.append(pollutants) # Only CO\n",
    "    else:\n",
    "        names, values = pollutants.replace('\\n,', ',').split('\\n', maxsplit=1)\n",
    "        pollutant_names = names.split(', ')\n",
    "        values = values.split('\\n')\n",
    "        i = 0\n",
    "        for pollutan_name in pollutant_names:\n",
    "            if pollutan_name != 'CO':\n",
    "                cleaned_names.append(pollutan_name + values[i])\n",
    "                i += 1\n",
    "            else:\n",
    "                cleaned_names.append(pollutan_name)\n",
    "    \n",
    "    return cleaned_names"
   ]
  },
  {
   "cell_type": "code",
   "execution_count": 81,
   "metadata": {},
   "outputs": [],
   "source": [
    "main_df = pd.concat(dfs)\n",
    "main_df['Prominent Pollutant'] = main_df['Prominent Pollutant'].apply(prominant_pollutant_cleanup)"
   ]
  },
  {
   "cell_type": "code",
   "execution_count": 82,
   "metadata": {},
   "outputs": [
    {
     "data": {
      "text/html": [
       "<div>\n",
       "<style scoped>\n",
       "    .dataframe tbody tr th:only-of-type {\n",
       "        vertical-align: middle;\n",
       "    }\n",
       "\n",
       "    .dataframe tbody tr th {\n",
       "        vertical-align: top;\n",
       "    }\n",
       "\n",
       "    .dataframe thead th {\n",
       "        text-align: right;\n",
       "    }\n",
       "</style>\n",
       "<table border=\"1\" class=\"dataframe\">\n",
       "  <thead>\n",
       "    <tr style=\"text-align: right;\">\n",
       "      <th></th>\n",
       "      <th>S.No</th>\n",
       "      <th>City</th>\n",
       "      <th>Air Quality</th>\n",
       "      <th>Index Value</th>\n",
       "      <th>Prominent Pollutant</th>\n",
       "      <th>Based on Number of Monitoring Stations</th>\n",
       "      <th>date</th>\n",
       "    </tr>\n",
       "  </thead>\n",
       "  <tbody>\n",
       "    <tr>\n",
       "      <th>1</th>\n",
       "      <td>1</td>\n",
       "      <td>Agartala</td>\n",
       "      <td>Moderate</td>\n",
       "      <td>180</td>\n",
       "      <td>[PM2.5]</td>\n",
       "      <td>1</td>\n",
       "      <td>2022-02-26</td>\n",
       "    </tr>\n",
       "    <tr>\n",
       "      <th>2</th>\n",
       "      <td>2</td>\n",
       "      <td>Agra</td>\n",
       "      <td>Satisfactory</td>\n",
       "      <td>89</td>\n",
       "      <td>[PM10]</td>\n",
       "      <td>5</td>\n",
       "      <td>2022-02-26</td>\n",
       "    </tr>\n",
       "    <tr>\n",
       "      <th>3</th>\n",
       "      <td>3</td>\n",
       "      <td>Ahmedabad</td>\n",
       "      <td>Poor</td>\n",
       "      <td>235</td>\n",
       "      <td>[PM2.5]</td>\n",
       "      <td>9</td>\n",
       "      <td>2022-02-26</td>\n",
       "    </tr>\n",
       "    <tr>\n",
       "      <th>4</th>\n",
       "      <td>4</td>\n",
       "      <td>Aizawl</td>\n",
       "      <td>Good</td>\n",
       "      <td>15</td>\n",
       "      <td>[CO]</td>\n",
       "      <td>1</td>\n",
       "      <td>2022-02-26</td>\n",
       "    </tr>\n",
       "    <tr>\n",
       "      <th>5</th>\n",
       "      <td>5</td>\n",
       "      <td>Ajmer</td>\n",
       "      <td>Moderate</td>\n",
       "      <td>122</td>\n",
       "      <td>[PM10]</td>\n",
       "      <td>1</td>\n",
       "      <td>2022-02-26</td>\n",
       "    </tr>\n",
       "    <tr>\n",
       "      <th>...</th>\n",
       "      <td>...</td>\n",
       "      <td>...</td>\n",
       "      <td>...</td>\n",
       "      <td>...</td>\n",
       "      <td>...</td>\n",
       "      <td>...</td>\n",
       "      <td>...</td>\n",
       "    </tr>\n",
       "    <tr>\n",
       "      <th>15</th>\n",
       "      <td>235</td>\n",
       "      <td>Vijayawada</td>\n",
       "      <td>Satisfactory</td>\n",
       "      <td>57</td>\n",
       "      <td>[O3, PM10]</td>\n",
       "      <td>2/3</td>\n",
       "      <td>2023-12-28</td>\n",
       "    </tr>\n",
       "    <tr>\n",
       "      <th>16</th>\n",
       "      <td>236</td>\n",
       "      <td>Visakhapatnam</td>\n",
       "      <td>Moderate</td>\n",
       "      <td>177</td>\n",
       "      <td>[PM2.5]</td>\n",
       "      <td>1/1</td>\n",
       "      <td>2023-12-28</td>\n",
       "    </tr>\n",
       "    <tr>\n",
       "      <th>17</th>\n",
       "      <td>237</td>\n",
       "      <td>Vrindavan</td>\n",
       "      <td>Satisfactory</td>\n",
       "      <td>82</td>\n",
       "      <td>[CO]</td>\n",
       "      <td>1/1</td>\n",
       "      <td>2023-12-28</td>\n",
       "    </tr>\n",
       "    <tr>\n",
       "      <th>18</th>\n",
       "      <td>238</td>\n",
       "      <td>Yadgir</td>\n",
       "      <td>Moderate</td>\n",
       "      <td>102</td>\n",
       "      <td>[PM2.5]</td>\n",
       "      <td>1/1</td>\n",
       "      <td>2023-12-28</td>\n",
       "    </tr>\n",
       "    <tr>\n",
       "      <th>19</th>\n",
       "      <td>239</td>\n",
       "      <td>Yamuna Nagar</td>\n",
       "      <td>Moderate</td>\n",
       "      <td>133</td>\n",
       "      <td>[PM10]</td>\n",
       "      <td>1/1</td>\n",
       "      <td>2023-12-28</td>\n",
       "    </tr>\n",
       "  </tbody>\n",
       "</table>\n",
       "<p>525 rows × 7 columns</p>\n",
       "</div>"
      ],
      "text/plain": [
       "    S.No           City   Air Quality  Index Value Prominent Pollutant  \\\n",
       "1      1       Agartala      Moderate          180             [PM2.5]   \n",
       "2      2           Agra  Satisfactory           89              [PM10]   \n",
       "3      3      Ahmedabad          Poor          235             [PM2.5]   \n",
       "4      4         Aizawl          Good           15                [CO]   \n",
       "5      5          Ajmer      Moderate          122              [PM10]   \n",
       "..   ...            ...           ...          ...                 ...   \n",
       "15   235     Vijayawada  Satisfactory           57          [O3, PM10]   \n",
       "16   236  Visakhapatnam      Moderate          177             [PM2.5]   \n",
       "17   237      Vrindavan  Satisfactory           82                [CO]   \n",
       "18   238         Yadgir      Moderate          102             [PM2.5]   \n",
       "19   239   Yamuna Nagar      Moderate          133              [PM10]   \n",
       "\n",
       "   Based on Number of Monitoring Stations       date  \n",
       "1                                       1 2022-02-26  \n",
       "2                                       5 2022-02-26  \n",
       "3                                       9 2022-02-26  \n",
       "4                                       1 2022-02-26  \n",
       "5                                       1 2022-02-26  \n",
       "..                                    ...        ...  \n",
       "15                                    2/3 2023-12-28  \n",
       "16                                    1/1 2023-12-28  \n",
       "17                                    1/1 2023-12-28  \n",
       "18                                    1/1 2023-12-28  \n",
       "19                                    1/1 2023-12-28  \n",
       "\n",
       "[525 rows x 7 columns]"
      ]
     },
     "execution_count": 82,
     "metadata": {},
     "output_type": "execute_result"
    }
   ],
   "source": [
    "main_df"
   ]
  },
  {
   "cell_type": "code",
   "execution_count": 12,
   "metadata": {},
   "outputs": [],
   "source": [
    "df = pd.read_csv(\"../data/processed/cpcb_aqi_data.csv\")"
   ]
  },
  {
   "cell_type": "code",
   "execution_count": 13,
   "metadata": {},
   "outputs": [],
   "source": [
    "import datetime\n",
    "\n",
    "def range_date(start_date, end_date, day_step=1):\n",
    "    c_date = start_date\n",
    "    while c_date < end_date:\n",
    "        yield c_date\n",
    "        c_date += datetime.timedelta(day_step)"
   ]
  },
  {
   "cell_type": "code",
   "execution_count": 14,
   "metadata": {},
   "outputs": [],
   "source": [
    "START_DATE = datetime.date(2020, 1, 1)\n",
    "END_DATE = datetime.date(2024, 12, 1)\n",
    "\n"
   ]
  },
  {
   "cell_type": "code",
   "execution_count": 27,
   "metadata": {},
   "outputs": [
    {
     "data": {
      "text/plain": [
       "False"
      ]
     },
     "execution_count": 27,
     "metadata": {},
     "output_type": "execute_result"
    }
   ],
   "source": [
    "START_DATE == pd.to_datetime('2020-01-01')"
   ]
  },
  {
   "cell_type": "markdown",
   "metadata": {},
   "source": [
    "# Testing NASA POWER API"
   ]
  },
  {
   "cell_type": "code",
   "execution_count": 24,
   "metadata": {},
   "outputs": [],
   "source": [
    "import requests\n",
    "import pprint\n",
    "import json"
   ]
  },
  {
   "cell_type": "code",
   "execution_count": 19,
   "metadata": {},
   "outputs": [],
   "source": [
    "nasa_power_query_parameters = {\n",
    "\"solar_fluxes_related \": [\n",
    "\"ALLSKY_SFC_SW_DNI\",\n",
    "\"ALLSKY_SFC_SW_DIFF\",\n",
    "\"TOA_SW_DWN\",\n",
    "\"ALLSKY_SRF_ALB\",\n",
    "\"ALLSKY_SFC_PAR_TOT\",\n",
    "\"CLRSKY_SFC_PAR_TOT\",\n",
    "\"ALLSKY_SFC_UVA\",\n",
    "\"ALLSKY_SFC_UVB\",\n",
    "\"ALLSKY_SFC_UV_INDEX\",\n",
    "],\n",
    "\n",
    "\"temp_thermal_ir_flux\": [\n",
    "\"T2M\",\n",
    "\"T2MDEW\",\n",
    "\"T2MWET\",\n",
    "\"TS\",\n",
    "\"T2M_RANGE\",\n",
    "\"T2M_MAX\",\n",
    "\"T2M_MIN\",\n",
    "\"ALLSKY_SFC_LW_DWN\",\n",
    "],\n",
    "\n",
    "\"climate_humidity_precipitation\": [\n",
    "\"CDD0\",\n",
    "\"CDD10\",\n",
    "\"CDD18_3\",\n",
    "\"HDD0\",\n",
    "\"HDD10\",\n",
    "\"HDD18_3\",\n",
    "\"QV2M\",\n",
    "\"RH2M\",\n",
    "\"PRECTOTCORR\",\n",
    "],\n",
    "\n",
    "\"wind_pressure\": [\n",
    "\"PS\",\n",
    "\"WS10M\",\n",
    "\"WS10M_MAX\",\n",
    "\"WS10M_MIN\",\n",
    "\"WS10M_RANGE\",\n",
    "\"WS50M\",\n",
    "\"WD10M\",\n",
    "\"WS50M_MAX\",\n",
    "\"WS50M_MIN\",\n",
    "\"WS50M_RANGE\",\n",
    "\"WD50M\",\n",
    "]\n",
    "}"
   ]
  },
  {
   "cell_type": "code",
   "execution_count": 27,
   "metadata": {},
   "outputs": [
    {
     "name": "stdout",
     "output_type": "stream",
     "text": [
      "{\n",
      "    \"solar_fluxes_related \": [\n",
      "        \"ALLSKY_SFC_SW_DNI\",\n",
      "        \"ALLSKY_SFC_SW_DIFF\",\n",
      "        \"TOA_SW_DWN\",\n",
      "        \"ALLSKY_SRF_ALB\",\n",
      "        \"ALLSKY_SFC_PAR_TOT\",\n",
      "        \"CLRSKY_SFC_PAR_TOT\",\n",
      "        \"ALLSKY_SFC_UVA\",\n",
      "        \"ALLSKY_SFC_UVB\",\n",
      "        \"ALLSKY_SFC_UV_INDEX\"\n",
      "    ],\n",
      "    \"temp_thermal_ir_flux\": [\n",
      "        \"T2M\",\n",
      "        \"T2MDEW\",\n",
      "        \"T2MWET\",\n",
      "        \"TS\",\n",
      "        \"T2M_RANGE\",\n",
      "        \"T2M_MAX\",\n",
      "        \"T2M_MIN\",\n",
      "        \"ALLSKY_SFC_LW_DWN\"\n",
      "    ],\n",
      "    \"climate_humidity_precipitation\": [\n",
      "        \"CDD0\",\n",
      "        \"CDD10\",\n",
      "        \"CDD18_3\",\n",
      "        \"HDD0\",\n",
      "        \"HDD10\",\n",
      "        \"HDD18_3\",\n",
      "        \"QV2M\",\n",
      "        \"RH2M\",\n",
      "        \"PRECTOTCORR\"\n",
      "    ],\n",
      "    \"wind_pressure\": [\n",
      "        \"PS\",\n",
      "        \"WS10M\",\n",
      "        \"WS10M_MAX\",\n",
      "        \"WS10M_MIN\",\n",
      "        \"WS10M_RANGE\",\n",
      "        \"WS50M\",\n",
      "        \"WD10M\",\n",
      "        \"WS50M_MAX\",\n",
      "        \"WS50M_MIN\",\n",
      "        \"WS50M_RANGE\",\n",
      "        \"WD50M\"\n",
      "    ]\n",
      "}\n"
     ]
    }
   ],
   "source": [
    "print(json.dumps(nasa_power_query_parameters, indent=4))"
   ]
  },
  {
   "cell_type": "code",
   "execution_count": 17,
   "metadata": {},
   "outputs": [
    {
     "name": "stdout",
     "output_type": "stream",
     "text": [
      "-BEGIN HEADER-\n",
      "NASA/POWER CERES/MERRA2 Native Resolution Daily Data \n",
      "Dates (month/day/year): 01/01/2017 through 02/01/2017 \n",
      "Location: Latitude  0.0   Longitude 0.0 \n",
      "Elevation from MERRA-2: Average for 0.5 x 0.625 degree lat/lon region = 0.0 meters\n",
      "The value for missing source data that cannot be computed or is outside of the sources availability range: -999 \n",
      "Parameter(s): \n",
      "T2M       MERRA-2 Temperature at 2 Meters (C) \n",
      "PS        MERRA-2 Surface Pressure (kPa) \n",
      "WS10M     MERRA-2 Wind Speed at 10 Meters (m/s) \n",
      "PSC       MERRA-2 Corrected Atmospheric Pressure (Adjusted For Site Elevation) (kPa) \n",
      "WSC       MERRA-2 Corrected Wind Speed (Adjusted For Elevation) (m/s) \n",
      "Message(s): \n",
      "Corrected Wind Speed has a custom surface implemented: Smooth sea ice (seaice) \n",
      "-END HEADER-\n",
      "YEAR,DOY,T2M,PS,WS10M,PSC,WSC\n",
      "2017,1,26.45,101.07,1.6,100.5,1.68\n",
      "2017,2,27.01,101.11,3.93,100.54,4.19\n",
      "2017,3,26.69,101.14,2.1,100.57,2.18\n",
      "2017,4,26.48,101.12,3.55,100.55,3.77\n",
      "2017,5,26.08,101.14,4.69,100.56,4.99\n",
      "2017,6,25.8,101.12,2.95,100.54,3.07\n",
      "2017,7,26.79,101.12,4.62,100.54,4.96\n",
      "2017,8,27.19,101.13,3.85,100.55,4.14\n",
      "2017,9,26.62,101.0,3.37,100.42,3.56\n",
      "2017,10,26.58,100.92,4.71,100.35,5.04\n",
      "2017,11,26.59,100.97,4.51,100.4,4.82\n",
      "2017,12,27.2,101.09,4.33,100.51,4.63\n",
      "2017,13,27.51,101.0,4.13,100.43,4.43\n",
      "2017,14,27.6,100.89,3.46,100.32,3.67\n",
      "2017,15,27.33,100.93,4.07,100.35,4.35\n",
      "2017,16,27.58,100.91,4.44,100.34,4.76\n",
      "2017,17,27.14,100.93,4.76,100.35,5.1\n",
      "2017,18,27.09,101.03,4.52,100.45,4.82\n",
      "2017,19,27.23,101.01,3.4,100.44,3.59\n",
      "2017,20,27.54,101.0,3.71,100.42,3.94\n",
      "2017,21,27.81,101.0,4.46,100.43,4.77\n",
      "2017,22,26.98,101.1,5.1,100.53,5.44\n",
      "2017,23,26.83,101.26,4.53,100.69,4.8\n",
      "2017,24,26.25,101.35,2.89,100.77,2.98\n",
      "2017,25,27.13,101.21,3.08,100.64,3.22\n",
      "2017,26,26.87,101.28,3.62,100.71,3.82\n",
      "2017,27,26.78,101.39,3.57,100.81,3.75\n",
      "2017,28,27.24,101.32,4.5,100.75,4.76\n",
      "2017,29,27.19,101.18,3.62,100.6,3.82\n",
      "2017,30,27.19,101.12,3.69,100.55,3.88\n",
      "2017,31,26.74,101.16,3.74,100.59,3.95\n",
      "2017,32,26.45,101.24,4.02,100.66,4.23\n",
      "\n"
     ]
    }
   ],
   "source": [
    "requests.quer"
   ]
  },
  {
   "cell_type": "code",
   "execution_count": 13,
   "metadata": {},
   "outputs": [
    {
     "data": {
      "text/plain": [
       "dict_keys(['parameter'])"
      ]
     },
     "execution_count": 13,
     "metadata": {},
     "output_type": "execute_result"
    }
   ],
   "source": [
    "response.json()['properties'].keys()"
   ]
  },
  {
   "cell_type": "code",
   "execution_count": null,
   "metadata": {},
   "outputs": [],
   "source": []
  }
 ],
 "metadata": {
  "kernelspec": {
   "display_name": "aqi_forecasting",
   "language": "python",
   "name": "python3"
  },
  "language_info": {
   "codemirror_mode": {
    "name": "ipython",
    "version": 3
   },
   "file_extension": ".py",
   "mimetype": "text/x-python",
   "name": "python",
   "nbconvert_exporter": "python",
   "pygments_lexer": "ipython3",
   "version": "3.12.3"
  }
 },
 "nbformat": 4,
 "nbformat_minor": 2
}
